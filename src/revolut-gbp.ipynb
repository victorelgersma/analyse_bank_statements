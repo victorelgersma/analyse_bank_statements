{
 "cells": [
  {
   "cell_type": "markdown",
   "id": "b833b2ad-3089-4ab1-8ef9-c8e2c6a498ca",
   "metadata": {},
   "source": [
    "# Import"
   ]
  },
  {
   "cell_type": "code",
   "execution_count": 104,
   "id": "318cd68d-0109-4f13-943d-4d29c3dc962c",
   "metadata": {},
   "outputs": [],
   "source": [
    "#  imports\n",
    "\n",
    "import numpy as np\n",
    "import pandas as pd\n",
    "import html5lib\n",
    "from pathlib import Path\n"
   ]
  },
  {
   "cell_type": "code",
   "execution_count": 105,
   "id": "7fc59ff9-a919-4b5e-a13f-ab4e1e963956",
   "metadata": {},
   "outputs": [],
   "source": [
    "# read csv -gbp\n",
    "path='../data/rev/gbp/oct.csv'\n",
    "\n",
    "df = pd.read_csv(path)"
   ]
  },
  {
   "cell_type": "code",
   "execution_count": 106,
   "id": "64b5a119-0d1f-4895-b56f-e609658985ca",
   "metadata": {},
   "outputs": [
    {
     "data": {
      "text/html": [
       "<div>\n",
       "<style scoped>\n",
       "    .dataframe tbody tr th:only-of-type {\n",
       "        vertical-align: middle;\n",
       "    }\n",
       "\n",
       "    .dataframe tbody tr th {\n",
       "        vertical-align: top;\n",
       "    }\n",
       "\n",
       "    .dataframe thead th {\n",
       "        text-align: right;\n",
       "    }\n",
       "</style>\n",
       "<table border=\"1\" class=\"dataframe\">\n",
       "  <thead>\n",
       "    <tr style=\"text-align: right;\">\n",
       "      <th></th>\n",
       "      <th>Type</th>\n",
       "      <th>Product</th>\n",
       "      <th>Started Date</th>\n",
       "      <th>Completed Date</th>\n",
       "      <th>Description</th>\n",
       "      <th>Amount</th>\n",
       "      <th>Fee</th>\n",
       "      <th>Currency</th>\n",
       "      <th>State</th>\n",
       "      <th>Balance</th>\n",
       "    </tr>\n",
       "  </thead>\n",
       "  <tbody>\n",
       "    <tr>\n",
       "      <th>0</th>\n",
       "      <td>CARD_PAYMENT</td>\n",
       "      <td>Current</td>\n",
       "      <td>2024-09-30 19:55:19</td>\n",
       "      <td>2024-10-01 05:10:20</td>\n",
       "      <td>Tahsin Food Centre</td>\n",
       "      <td>-2.99</td>\n",
       "      <td>0.0</td>\n",
       "      <td>GBP</td>\n",
       "      <td>COMPLETED</td>\n",
       "      <td>2.25</td>\n",
       "    </tr>\n",
       "    <tr>\n",
       "      <th>1</th>\n",
       "      <td>CARD_PAYMENT</td>\n",
       "      <td>Current</td>\n",
       "      <td>2024-10-01 01:39:06</td>\n",
       "      <td>2024-10-01 08:59:39</td>\n",
       "      <td>Transport for London</td>\n",
       "      <td>-1.80</td>\n",
       "      <td>0.0</td>\n",
       "      <td>GBP</td>\n",
       "      <td>COMPLETED</td>\n",
       "      <td>0.45</td>\n",
       "    </tr>\n",
       "    <tr>\n",
       "      <th>2</th>\n",
       "      <td>TOPUP</td>\n",
       "      <td>Current</td>\n",
       "      <td>2024-10-01 10:51:06</td>\n",
       "      <td>2024-10-01 10:51:07</td>\n",
       "      <td>Payment from Victor Elgersma</td>\n",
       "      <td>1000.00</td>\n",
       "      <td>0.0</td>\n",
       "      <td>GBP</td>\n",
       "      <td>COMPLETED</td>\n",
       "      <td>1000.45</td>\n",
       "    </tr>\n",
       "    <tr>\n",
       "      <th>3</th>\n",
       "      <td>FEE</td>\n",
       "      <td>Current</td>\n",
       "      <td>2024-10-01 14:10:27</td>\n",
       "      <td>2024-10-01 14:10:27</td>\n",
       "      <td>Metal Repricing 1 plan fee</td>\n",
       "      <td>-14.99</td>\n",
       "      <td>0.0</td>\n",
       "      <td>GBP</td>\n",
       "      <td>COMPLETED</td>\n",
       "      <td>985.46</td>\n",
       "    </tr>\n",
       "    <tr>\n",
       "      <th>4</th>\n",
       "      <td>REFUND</td>\n",
       "      <td>Current</td>\n",
       "      <td>2024-10-01 14:12:34</td>\n",
       "      <td>2024-10-01 14:12:34</td>\n",
       "      <td>Plan termination refund</td>\n",
       "      <td>14.99</td>\n",
       "      <td>0.0</td>\n",
       "      <td>GBP</td>\n",
       "      <td>COMPLETED</td>\n",
       "      <td>1000.45</td>\n",
       "    </tr>\n",
       "  </tbody>\n",
       "</table>\n",
       "</div>"
      ],
      "text/plain": [
       "           Type  Product         Started Date       Completed Date  \\\n",
       "0  CARD_PAYMENT  Current  2024-09-30 19:55:19  2024-10-01 05:10:20   \n",
       "1  CARD_PAYMENT  Current  2024-10-01 01:39:06  2024-10-01 08:59:39   \n",
       "2         TOPUP  Current  2024-10-01 10:51:06  2024-10-01 10:51:07   \n",
       "3           FEE  Current  2024-10-01 14:10:27  2024-10-01 14:10:27   \n",
       "4        REFUND  Current  2024-10-01 14:12:34  2024-10-01 14:12:34   \n",
       "\n",
       "                    Description   Amount  Fee Currency      State  Balance  \n",
       "0            Tahsin Food Centre    -2.99  0.0      GBP  COMPLETED     2.25  \n",
       "1          Transport for London    -1.80  0.0      GBP  COMPLETED     0.45  \n",
       "2  Payment from Victor Elgersma  1000.00  0.0      GBP  COMPLETED  1000.45  \n",
       "3    Metal Repricing 1 plan fee   -14.99  0.0      GBP  COMPLETED   985.46  \n",
       "4       Plan termination refund    14.99  0.0      GBP  COMPLETED  1000.45  "
      ]
     },
     "execution_count": 106,
     "metadata": {},
     "output_type": "execute_result"
    }
   ],
   "source": [
    "df.head()\n"
   ]
  },
  {
   "cell_type": "code",
   "execution_count": 107,
   "id": "20e7c669-a0c5-4e16-bfb1-1a694bb3f0d2",
   "metadata": {},
   "outputs": [
    {
     "data": {
      "text/plain": [
       "Completed Date     object\n",
       "Description        object\n",
       "Amount            float64\n",
       "Fee               float64\n",
       "Currency           object\n",
       "dtype: object"
      ]
     },
     "execution_count": 107,
     "metadata": {},
     "output_type": "execute_result"
    }
   ],
   "source": [
    "# Drop cells I don't need\n",
    "\n",
    "df = df[[\"Completed Date\", \"Description\", \"Amount\", \"Fee\", \"Currency\"]]\n",
    "df.dtypes"
   ]
  },
  {
   "cell_type": "code",
   "execution_count": 108,
   "id": "09fa9909-74dd-4962-a4c6-a0d51a814dea",
   "metadata": {},
   "outputs": [],
   "source": [
    "# Clean"
   ]
  },
  {
   "cell_type": "code",
   "execution_count": 109,
   "id": "b7794836-df66-4365-b13a-d50ca5c01488",
   "metadata": {},
   "outputs": [
    {
     "data": {
      "text/plain": [
       "Date           datetime64[ns]\n",
       "Description            object\n",
       "Delta                 float64\n",
       "Fee                   float64\n",
       "Currency               object\n",
       "dtype: object"
      ]
     },
     "execution_count": 109,
     "metadata": {},
     "output_type": "execute_result"
    }
   ],
   "source": [
    "df[\"Date\"] = pd.to_datetime(df['Completed Date'])\n",
    "df[\"Delta\"] = df[\"Amount\"]\n",
    "\n",
    "df = df[[\"Date\", \"Description\", \"Delta\", \"Fee\", \"Currency\"]]\n",
    "df.dtypes"
   ]
  },
  {
   "cell_type": "code",
   "execution_count": 110,
   "id": "6afe28ad-2f83-46c3-b04e-a6d6a3691fb7",
   "metadata": {},
   "outputs": [
    {
     "data": {
      "text/html": [
       "<div>\n",
       "<style scoped>\n",
       "    .dataframe tbody tr th:only-of-type {\n",
       "        vertical-align: middle;\n",
       "    }\n",
       "\n",
       "    .dataframe tbody tr th {\n",
       "        vertical-align: top;\n",
       "    }\n",
       "\n",
       "    .dataframe thead th {\n",
       "        text-align: right;\n",
       "    }\n",
       "</style>\n",
       "<table border=\"1\" class=\"dataframe\">\n",
       "  <thead>\n",
       "    <tr style=\"text-align: right;\">\n",
       "      <th></th>\n",
       "      <th>Date</th>\n",
       "      <th>Description</th>\n",
       "      <th>Delta</th>\n",
       "      <th>Fee</th>\n",
       "      <th>Currency</th>\n",
       "    </tr>\n",
       "  </thead>\n",
       "  <tbody>\n",
       "    <tr>\n",
       "      <th>130</th>\n",
       "      <td>2024-10-29 10:49:38</td>\n",
       "      <td>Tesco</td>\n",
       "      <td>-1.50</td>\n",
       "      <td>0.0</td>\n",
       "      <td>GBP</td>\n",
       "    </tr>\n",
       "    <tr>\n",
       "      <th>131</th>\n",
       "      <td>2024-10-29 22:35:13</td>\n",
       "      <td>Payment from Albena Azmanova</td>\n",
       "      <td>30.00</td>\n",
       "      <td>0.0</td>\n",
       "      <td>GBP</td>\n",
       "    </tr>\n",
       "    <tr>\n",
       "      <th>132</th>\n",
       "      <td>2024-10-30 01:52:25</td>\n",
       "      <td>Simmer Eats</td>\n",
       "      <td>-37.45</td>\n",
       "      <td>0.0</td>\n",
       "      <td>GBP</td>\n",
       "    </tr>\n",
       "    <tr>\n",
       "      <th>133</th>\n",
       "      <td>2024-10-30 21:07:25</td>\n",
       "      <td>Payment from Albena Azmanova</td>\n",
       "      <td>20.00</td>\n",
       "      <td>0.0</td>\n",
       "      <td>GBP</td>\n",
       "    </tr>\n",
       "    <tr>\n",
       "      <th>134</th>\n",
       "      <td>2024-10-31 12:53:19</td>\n",
       "      <td>Payment from Albena Azmanova</td>\n",
       "      <td>122.50</td>\n",
       "      <td>0.0</td>\n",
       "      <td>GBP</td>\n",
       "    </tr>\n",
       "  </tbody>\n",
       "</table>\n",
       "</div>"
      ],
      "text/plain": [
       "                   Date                   Description   Delta  Fee Currency\n",
       "130 2024-10-29 10:49:38                         Tesco   -1.50  0.0      GBP\n",
       "131 2024-10-29 22:35:13  Payment from Albena Azmanova   30.00  0.0      GBP\n",
       "132 2024-10-30 01:52:25                   Simmer Eats  -37.45  0.0      GBP\n",
       "133 2024-10-30 21:07:25  Payment from Albena Azmanova   20.00  0.0      GBP\n",
       "134 2024-10-31 12:53:19  Payment from Albena Azmanova  122.50  0.0      GBP"
      ]
     },
     "execution_count": 110,
     "metadata": {},
     "output_type": "execute_result"
    }
   ],
   "source": [
    "df.tail()"
   ]
  },
  {
   "cell_type": "code",
   "execution_count": 111,
   "id": "a1ca1b36-83c6-4863-8311-82128a7ea8fd",
   "metadata": {},
   "outputs": [
    {
     "data": {
      "text/html": [
       "<div>\n",
       "<style scoped>\n",
       "    .dataframe tbody tr th:only-of-type {\n",
       "        vertical-align: middle;\n",
       "    }\n",
       "\n",
       "    .dataframe tbody tr th {\n",
       "        vertical-align: top;\n",
       "    }\n",
       "\n",
       "    .dataframe thead th {\n",
       "        text-align: right;\n",
       "    }\n",
       "</style>\n",
       "<table border=\"1\" class=\"dataframe\">\n",
       "  <thead>\n",
       "    <tr style=\"text-align: right;\">\n",
       "      <th></th>\n",
       "      <th>Date</th>\n",
       "      <th>Description</th>\n",
       "      <th>Delta</th>\n",
       "      <th>Fee</th>\n",
       "      <th>Currency</th>\n",
       "    </tr>\n",
       "  </thead>\n",
       "  <tbody>\n",
       "    <tr>\n",
       "      <th>5</th>\n",
       "      <td>2024-10-02 06:13:28</td>\n",
       "      <td>Tesco</td>\n",
       "      <td>-1.60</td>\n",
       "      <td>0.0</td>\n",
       "      <td>GBP</td>\n",
       "    </tr>\n",
       "    <tr>\n",
       "      <th>6</th>\n",
       "      <td>2024-10-02 06:15:36</td>\n",
       "      <td>Delta Security</td>\n",
       "      <td>-20.00</td>\n",
       "      <td>0.0</td>\n",
       "      <td>GBP</td>\n",
       "    </tr>\n",
       "    <tr>\n",
       "      <th>7</th>\n",
       "      <td>2024-10-02 11:26:46</td>\n",
       "      <td>Tesco</td>\n",
       "      <td>-15.95</td>\n",
       "      <td>0.0</td>\n",
       "      <td>GBP</td>\n",
       "    </tr>\n",
       "    <tr>\n",
       "      <th>8</th>\n",
       "      <td>2024-10-02 11:27:01</td>\n",
       "      <td>Tesco</td>\n",
       "      <td>-17.90</td>\n",
       "      <td>0.0</td>\n",
       "      <td>GBP</td>\n",
       "    </tr>\n",
       "    <tr>\n",
       "      <th>9</th>\n",
       "      <td>2024-10-03 10:05:56</td>\n",
       "      <td>Swapfiets</td>\n",
       "      <td>-0.10</td>\n",
       "      <td>0.0</td>\n",
       "      <td>GBP</td>\n",
       "    </tr>\n",
       "  </tbody>\n",
       "</table>\n",
       "</div>"
      ],
      "text/plain": [
       "                 Date     Description  Delta  Fee Currency\n",
       "5 2024-10-02 06:13:28           Tesco  -1.60  0.0      GBP\n",
       "6 2024-10-02 06:15:36  Delta Security -20.00  0.0      GBP\n",
       "7 2024-10-02 11:26:46           Tesco -15.95  0.0      GBP\n",
       "8 2024-10-02 11:27:01           Tesco -17.90  0.0      GBP\n",
       "9 2024-10-03 10:05:56       Swapfiets  -0.10  0.0      GBP"
      ]
     },
     "execution_count": 111,
     "metadata": {},
     "output_type": "execute_result"
    }
   ],
   "source": [
    "# Data Analysis\n",
    "df[5:10]"
   ]
  },
  {
   "cell_type": "code",
   "execution_count": 112,
   "id": "f8220bd3-56d9-491b-8cd8-2629f7bdf4dd",
   "metadata": {},
   "outputs": [
    {
     "name": "stdout",
     "output_type": "stream",
     "text": [
      "Description\n",
      "Back Market                     -499.93\n",
      "UNIQLO                          -376.40\n",
      "Tesco                           -157.63\n",
      "eurostar                         -97.00\n",
      "Pure                             -92.80\n",
      "Khan's of Kensington             -83.87\n",
      "Simmer Eats                      -68.91\n",
      "Amazon                           -63.38\n",
      "Ryman                            -57.97\n",
      "Sports Direct                    -42.20\n",
      "Sp Nonna Tonda                   -37.80\n",
      "To LUKA CHINCHALADZE             -35.31\n",
      "Lamb & Flag                      -35.30\n",
      "Lead And Ball                    -27.00\n",
      "Regie De Recettes De L           -24.00\n",
      "Bethwall                         -22.00\n",
      "Delta Security                   -20.00\n",
      "Marks & Spencer                  -19.25\n",
      "Pret                             -17.14\n",
      "Kebab Fellas                     -16.00\n",
      "Lime                             -15.63\n",
      "Sainsbury's                      -15.20\n",
      "Lebara mobile                    -15.00\n",
      "Metal Repricing 1 plan fee       -14.99\n",
      "Www.as56.co.uk                   -12.00\n",
      "Daunt Books                      -12.00\n",
      "WHSmith                           -9.99\n",
      "Wigmore Hall                      -9.00\n",
      "FWD:Coffee                        -8.60\n",
      "Readwise                          -8.29\n",
      "Shaka S Cateri                    -8.00\n",
      "Crown Islington                   -7.84\n",
      "Perfect Grill London G            -7.50\n",
      "Co-op                             -7.45\n",
      "Transport for London              -7.30\n",
      "Cafe OTO                          -7.00\n",
      "Hj Aris                           -6.00\n",
      "Sportas                           -6.00\n",
      "The Builders Arms                 -5.85\n",
      "Coffeelovers                      -4.80\n",
      "The Harp                          -4.60\n",
      "FCB Coffee                        -3.60\n",
      "Greggs                            -3.40\n",
      "Market Cafe                       -3.38\n",
      "Regency Food & Wine               -3.09\n",
      "La Maison Highbury                -3.00\n",
      "Sultan Food And Wine              -2.99\n",
      "Tahsin Food Centre                -2.99\n",
      "Starbucks                         -2.75\n",
      "The National Gallery              -2.00\n",
      "JustGiving                        -2.00\n",
      "Swapfiets                         -0.10\n",
      "Plan termination refund           14.99\n",
      "From LUCA RAMON MELVILLE          20.30\n",
      "From TOMAZ EDMOND ODONOGHUE       49.29\n",
      "Payment from Albena Azmanova     210.50\n",
      "Exchanged to GBP                 834.83\n",
      "Payment from Victor Elgersma    1250.00\n",
      "Name: Delta, dtype: float64\n"
     ]
    }
   ],
   "source": [
    "\n",
    "\n",
    "\n",
    "# Group by 'Description' and calculate the sum and count of 'Delta'\n",
    "spending_by_description = df.groupby('Description')['Delta'].agg(['sum', 'count'])\n",
    "\n",
    "# Sort by spending in ascending order (negative spending first)\n",
    "spending_by_description = spending_by_description.sort_values('sum', ascending=True)\n",
    "spending_by_description\n",
    "\n"
   ]
  },
  {
   "cell_type": "code",
   "execution_count": 113,
   "id": "3415678c-7b17-44e9-8afe-bba6fbb4dad3",
   "metadata": {},
   "outputs": [
    {
     "data": {
      "text/html": [
       "<div>\n",
       "<style scoped>\n",
       "    .dataframe tbody tr th:only-of-type {\n",
       "        vertical-align: middle;\n",
       "    }\n",
       "\n",
       "    .dataframe tbody tr th {\n",
       "        vertical-align: top;\n",
       "    }\n",
       "\n",
       "    .dataframe thead th {\n",
       "        text-align: right;\n",
       "    }\n",
       "</style>\n",
       "<table border=\"1\" class=\"dataframe\">\n",
       "  <thead>\n",
       "    <tr style=\"text-align: right;\">\n",
       "      <th></th>\n",
       "      <th>Date</th>\n",
       "      <th>Description</th>\n",
       "      <th>Delta</th>\n",
       "      <th>Fee</th>\n",
       "      <th>Currency</th>\n",
       "    </tr>\n",
       "  </thead>\n",
       "  <tbody>\n",
       "    <tr>\n",
       "      <th>72</th>\n",
       "      <td>2024-10-17 03:05:19</td>\n",
       "      <td>Back Market</td>\n",
       "      <td>-168.49</td>\n",
       "      <td>0.0</td>\n",
       "      <td>GBP</td>\n",
       "    </tr>\n",
       "    <tr>\n",
       "      <th>103</th>\n",
       "      <td>2024-10-21 04:13:04</td>\n",
       "      <td>Back Market</td>\n",
       "      <td>-168.95</td>\n",
       "      <td>0.0</td>\n",
       "      <td>GBP</td>\n",
       "    </tr>\n",
       "    <tr>\n",
       "      <th>108</th>\n",
       "      <td>2024-10-21 16:48:16</td>\n",
       "      <td>Back Market</td>\n",
       "      <td>-162.49</td>\n",
       "      <td>0.0</td>\n",
       "      <td>GBP</td>\n",
       "    </tr>\n",
       "  </tbody>\n",
       "</table>\n",
       "</div>"
      ],
      "text/plain": [
       "                   Date  Description   Delta  Fee Currency\n",
       "72  2024-10-17 03:05:19  Back Market -168.49  0.0      GBP\n",
       "103 2024-10-21 04:13:04  Back Market -168.95  0.0      GBP\n",
       "108 2024-10-21 16:48:16  Back Market -162.49  0.0      GBP"
      ]
     },
     "execution_count": 113,
     "metadata": {},
     "output_type": "execute_result"
    }
   ],
   "source": [
    "# View all transactions with a given description\n",
    "description_filter = df[df['Description'] == 'Back Market']\n",
    "\n",
    "description_filter"
   ]
  },
  {
   "cell_type": "code",
   "execution_count": 114,
   "id": "e4e78eed-0460-494e-bd49-ac7c6e15bca4",
   "metadata": {},
   "outputs": [
    {
     "data": {
      "text/plain": [
       "np.float64(363.67999999999984)"
      ]
     },
     "execution_count": 114,
     "metadata": {},
     "output_type": "execute_result"
    }
   ],
   "source": [
    "df[\"Delta\"].sum()"
   ]
  },
  {
   "cell_type": "code",
   "execution_count": null,
   "id": "60248902-c9d6-4bf4-8d56-8b53a5142177",
   "metadata": {},
   "outputs": [],
   "source": []
  }
 ],
 "metadata": {
  "kernelspec": {
   "display_name": "Python 3 (ipykernel)",
   "language": "python",
   "name": "python3"
  },
  "language_info": {
   "codemirror_mode": {
    "name": "ipython",
    "version": 3
   },
   "file_extension": ".py",
   "mimetype": "text/x-python",
   "name": "python",
   "nbconvert_exporter": "python",
   "pygments_lexer": "ipython3",
   "version": "3.10.12"
  }
 },
 "nbformat": 4,
 "nbformat_minor": 5
}
